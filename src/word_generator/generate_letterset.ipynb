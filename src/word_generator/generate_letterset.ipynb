{
  "nbformat": 4,
  "nbformat_minor": 0,
  "metadata": {
    "colab": {
      "provenance": [],
      "collapsed_sections": []
    },
    "kernelspec": {
      "name": "python3",
      "display_name": "Python 3"
    },
    "language_info": {
      "name": "python"
    }
  },
  "cells": [
    {
      "cell_type": "code",
      "source": [
        "import pandas as pd"
      ],
      "metadata": {
        "id": "cBtJ2FC_QUSx"
      },
      "execution_count": 1,
      "outputs": []
    },
    {
      "cell_type": "markdown",
      "source": [
        "Importo un file json contenente le parole che mi interessa sezionare\n",
        "\n"
      ],
      "metadata": {
        "id": "hPeW2BpDs3Ih"
      }
    },
    {
      "cell_type": "code",
      "execution_count": 123,
      "metadata": {
        "id": "4guIzss8IEZ8"
      },
      "outputs": [],
      "source": [
        "words = pd.read_json('italian_words.json')"
      ]
    },
    {
      "cell_type": "markdown",
      "source": [
        "Creo due colonne; nella prima metto le prime due lettere della parola, nella seconda le prime tre"
      ],
      "metadata": {
        "id": "mzJ70Hsvs-0B"
      }
    },
    {
      "cell_type": "code",
      "source": [
        "words['terzine'] = words[0].str[:3]"
      ],
      "metadata": {
        "id": "LJoRqc_MQbYp"
      },
      "execution_count": 124,
      "outputs": []
    },
    {
      "cell_type": "code",
      "source": [
        "words['coppie'] = words[0].str[:2]"
      ],
      "metadata": {
        "id": "Fwit-E12SsKb"
      },
      "execution_count": 125,
      "outputs": []
    },
    {
      "cell_type": "code",
      "source": [
        "words.rename(columns={0:'word'}, inplace=True)"
      ],
      "metadata": {
        "id": "VWGPdRSEhfAy"
      },
      "execution_count": 126,
      "outputs": []
    },
    {
      "cell_type": "code",
      "source": [
        "words"
      ],
      "metadata": {
        "colab": {
          "base_uri": "https://localhost:8080/",
          "height": 424
        },
        "id": "lsQPhNdKiRR2",
        "outputId": "5523e5f8-14bd-46e3-9a96-aac761263664"
      },
      "execution_count": 127,
      "outputs": [
        {
          "output_type": "execute_result",
          "data": {
            "text/plain": [
              "              word terzine coppie\n",
              "0            abaca     aba     ab\n",
              "1           abachi     aba     ab\n",
              "2        abachista     aba     ab\n",
              "3        abachiste     aba     ab\n",
              "4        abachisti     aba     ab\n",
              "...            ...     ...    ...\n",
              "661558  zwinglismo     zwi     zw\n",
              "661559  zwinglista     zwi     zw\n",
              "661560  zwingliste     zwi     zw\n",
              "661561  zwinglisti     zwi     zw\n",
              "661562         zzz     zzz     zz\n",
              "\n",
              "[661563 rows x 3 columns]"
            ],
            "text/html": [
              "\n",
              "  <div id=\"df-123efc2c-c698-47a3-a133-37871bd35e5d\">\n",
              "    <div class=\"colab-df-container\">\n",
              "      <div>\n",
              "<style scoped>\n",
              "    .dataframe tbody tr th:only-of-type {\n",
              "        vertical-align: middle;\n",
              "    }\n",
              "\n",
              "    .dataframe tbody tr th {\n",
              "        vertical-align: top;\n",
              "    }\n",
              "\n",
              "    .dataframe thead th {\n",
              "        text-align: right;\n",
              "    }\n",
              "</style>\n",
              "<table border=\"1\" class=\"dataframe\">\n",
              "  <thead>\n",
              "    <tr style=\"text-align: right;\">\n",
              "      <th></th>\n",
              "      <th>word</th>\n",
              "      <th>terzine</th>\n",
              "      <th>coppie</th>\n",
              "    </tr>\n",
              "  </thead>\n",
              "  <tbody>\n",
              "    <tr>\n",
              "      <th>0</th>\n",
              "      <td>abaca</td>\n",
              "      <td>aba</td>\n",
              "      <td>ab</td>\n",
              "    </tr>\n",
              "    <tr>\n",
              "      <th>1</th>\n",
              "      <td>abachi</td>\n",
              "      <td>aba</td>\n",
              "      <td>ab</td>\n",
              "    </tr>\n",
              "    <tr>\n",
              "      <th>2</th>\n",
              "      <td>abachista</td>\n",
              "      <td>aba</td>\n",
              "      <td>ab</td>\n",
              "    </tr>\n",
              "    <tr>\n",
              "      <th>3</th>\n",
              "      <td>abachiste</td>\n",
              "      <td>aba</td>\n",
              "      <td>ab</td>\n",
              "    </tr>\n",
              "    <tr>\n",
              "      <th>4</th>\n",
              "      <td>abachisti</td>\n",
              "      <td>aba</td>\n",
              "      <td>ab</td>\n",
              "    </tr>\n",
              "    <tr>\n",
              "      <th>...</th>\n",
              "      <td>...</td>\n",
              "      <td>...</td>\n",
              "      <td>...</td>\n",
              "    </tr>\n",
              "    <tr>\n",
              "      <th>661558</th>\n",
              "      <td>zwinglismo</td>\n",
              "      <td>zwi</td>\n",
              "      <td>zw</td>\n",
              "    </tr>\n",
              "    <tr>\n",
              "      <th>661559</th>\n",
              "      <td>zwinglista</td>\n",
              "      <td>zwi</td>\n",
              "      <td>zw</td>\n",
              "    </tr>\n",
              "    <tr>\n",
              "      <th>661560</th>\n",
              "      <td>zwingliste</td>\n",
              "      <td>zwi</td>\n",
              "      <td>zw</td>\n",
              "    </tr>\n",
              "    <tr>\n",
              "      <th>661561</th>\n",
              "      <td>zwinglisti</td>\n",
              "      <td>zwi</td>\n",
              "      <td>zw</td>\n",
              "    </tr>\n",
              "    <tr>\n",
              "      <th>661562</th>\n",
              "      <td>zzz</td>\n",
              "      <td>zzz</td>\n",
              "      <td>zz</td>\n",
              "    </tr>\n",
              "  </tbody>\n",
              "</table>\n",
              "<p>661563 rows × 3 columns</p>\n",
              "</div>\n",
              "      <button class=\"colab-df-convert\" onclick=\"convertToInteractive('df-123efc2c-c698-47a3-a133-37871bd35e5d')\"\n",
              "              title=\"Convert this dataframe to an interactive table.\"\n",
              "              style=\"display:none;\">\n",
              "        \n",
              "  <svg xmlns=\"http://www.w3.org/2000/svg\" height=\"24px\"viewBox=\"0 0 24 24\"\n",
              "       width=\"24px\">\n",
              "    <path d=\"M0 0h24v24H0V0z\" fill=\"none\"/>\n",
              "    <path d=\"M18.56 5.44l.94 2.06.94-2.06 2.06-.94-2.06-.94-.94-2.06-.94 2.06-2.06.94zm-11 1L8.5 8.5l.94-2.06 2.06-.94-2.06-.94L8.5 2.5l-.94 2.06-2.06.94zm10 10l.94 2.06.94-2.06 2.06-.94-2.06-.94-.94-2.06-.94 2.06-2.06.94z\"/><path d=\"M17.41 7.96l-1.37-1.37c-.4-.4-.92-.59-1.43-.59-.52 0-1.04.2-1.43.59L10.3 9.45l-7.72 7.72c-.78.78-.78 2.05 0 2.83L4 21.41c.39.39.9.59 1.41.59.51 0 1.02-.2 1.41-.59l7.78-7.78 2.81-2.81c.8-.78.8-2.07 0-2.86zM5.41 20L4 18.59l7.72-7.72 1.47 1.35L5.41 20z\"/>\n",
              "  </svg>\n",
              "      </button>\n",
              "      \n",
              "  <style>\n",
              "    .colab-df-container {\n",
              "      display:flex;\n",
              "      flex-wrap:wrap;\n",
              "      gap: 12px;\n",
              "    }\n",
              "\n",
              "    .colab-df-convert {\n",
              "      background-color: #E8F0FE;\n",
              "      border: none;\n",
              "      border-radius: 50%;\n",
              "      cursor: pointer;\n",
              "      display: none;\n",
              "      fill: #1967D2;\n",
              "      height: 32px;\n",
              "      padding: 0 0 0 0;\n",
              "      width: 32px;\n",
              "    }\n",
              "\n",
              "    .colab-df-convert:hover {\n",
              "      background-color: #E2EBFA;\n",
              "      box-shadow: 0px 1px 2px rgba(60, 64, 67, 0.3), 0px 1px 3px 1px rgba(60, 64, 67, 0.15);\n",
              "      fill: #174EA6;\n",
              "    }\n",
              "\n",
              "    [theme=dark] .colab-df-convert {\n",
              "      background-color: #3B4455;\n",
              "      fill: #D2E3FC;\n",
              "    }\n",
              "\n",
              "    [theme=dark] .colab-df-convert:hover {\n",
              "      background-color: #434B5C;\n",
              "      box-shadow: 0px 1px 3px 1px rgba(0, 0, 0, 0.15);\n",
              "      filter: drop-shadow(0px 1px 2px rgba(0, 0, 0, 0.3));\n",
              "      fill: #FFFFFF;\n",
              "    }\n",
              "  </style>\n",
              "\n",
              "      <script>\n",
              "        const buttonEl =\n",
              "          document.querySelector('#df-123efc2c-c698-47a3-a133-37871bd35e5d button.colab-df-convert');\n",
              "        buttonEl.style.display =\n",
              "          google.colab.kernel.accessAllowed ? 'block' : 'none';\n",
              "\n",
              "        async function convertToInteractive(key) {\n",
              "          const element = document.querySelector('#df-123efc2c-c698-47a3-a133-37871bd35e5d');\n",
              "          const dataTable =\n",
              "            await google.colab.kernel.invokeFunction('convertToInteractive',\n",
              "                                                     [key], {});\n",
              "          if (!dataTable) return;\n",
              "\n",
              "          const docLinkHtml = 'Like what you see? Visit the ' +\n",
              "            '<a target=\"_blank\" href=https://colab.research.google.com/notebooks/data_table.ipynb>data table notebook</a>'\n",
              "            + ' to learn more about interactive tables.';\n",
              "          element.innerHTML = '';\n",
              "          dataTable['output_type'] = 'display_data';\n",
              "          await google.colab.output.renderOutput(dataTable, element);\n",
              "          const docLink = document.createElement('div');\n",
              "          docLink.innerHTML = docLinkHtml;\n",
              "          element.appendChild(docLink);\n",
              "        }\n",
              "      </script>\n",
              "    </div>\n",
              "  </div>\n",
              "  "
            ]
          },
          "metadata": {},
          "execution_count": 127
        }
      ]
    },
    {
      "cell_type": "markdown",
      "source": [
        "cambio l'indice del dataframe"
      ],
      "metadata": {
        "id": "gwsg4jgCtFGN"
      }
    },
    {
      "cell_type": "code",
      "source": [
        "words.set_index('word')"
      ],
      "metadata": {
        "colab": {
          "base_uri": "https://localhost:8080/",
          "height": 455
        },
        "id": "vrPUacEgazHP",
        "outputId": "7fba1188-4cff-4529-909c-0c221de9c120"
      },
      "execution_count": 128,
      "outputs": [
        {
          "output_type": "execute_result",
          "data": {
            "text/plain": [
              "           terzine coppie\n",
              "word                     \n",
              "abaca          aba     ab\n",
              "abachi         aba     ab\n",
              "abachista      aba     ab\n",
              "abachiste      aba     ab\n",
              "abachisti      aba     ab\n",
              "...            ...    ...\n",
              "zwinglismo     zwi     zw\n",
              "zwinglista     zwi     zw\n",
              "zwingliste     zwi     zw\n",
              "zwinglisti     zwi     zw\n",
              "zzz            zzz     zz\n",
              "\n",
              "[661563 rows x 2 columns]"
            ],
            "text/html": [
              "\n",
              "  <div id=\"df-78c6c5d1-76fb-46bf-ac4c-a32f6fc50a6d\">\n",
              "    <div class=\"colab-df-container\">\n",
              "      <div>\n",
              "<style scoped>\n",
              "    .dataframe tbody tr th:only-of-type {\n",
              "        vertical-align: middle;\n",
              "    }\n",
              "\n",
              "    .dataframe tbody tr th {\n",
              "        vertical-align: top;\n",
              "    }\n",
              "\n",
              "    .dataframe thead th {\n",
              "        text-align: right;\n",
              "    }\n",
              "</style>\n",
              "<table border=\"1\" class=\"dataframe\">\n",
              "  <thead>\n",
              "    <tr style=\"text-align: right;\">\n",
              "      <th></th>\n",
              "      <th>terzine</th>\n",
              "      <th>coppie</th>\n",
              "    </tr>\n",
              "    <tr>\n",
              "      <th>word</th>\n",
              "      <th></th>\n",
              "      <th></th>\n",
              "    </tr>\n",
              "  </thead>\n",
              "  <tbody>\n",
              "    <tr>\n",
              "      <th>abaca</th>\n",
              "      <td>aba</td>\n",
              "      <td>ab</td>\n",
              "    </tr>\n",
              "    <tr>\n",
              "      <th>abachi</th>\n",
              "      <td>aba</td>\n",
              "      <td>ab</td>\n",
              "    </tr>\n",
              "    <tr>\n",
              "      <th>abachista</th>\n",
              "      <td>aba</td>\n",
              "      <td>ab</td>\n",
              "    </tr>\n",
              "    <tr>\n",
              "      <th>abachiste</th>\n",
              "      <td>aba</td>\n",
              "      <td>ab</td>\n",
              "    </tr>\n",
              "    <tr>\n",
              "      <th>abachisti</th>\n",
              "      <td>aba</td>\n",
              "      <td>ab</td>\n",
              "    </tr>\n",
              "    <tr>\n",
              "      <th>...</th>\n",
              "      <td>...</td>\n",
              "      <td>...</td>\n",
              "    </tr>\n",
              "    <tr>\n",
              "      <th>zwinglismo</th>\n",
              "      <td>zwi</td>\n",
              "      <td>zw</td>\n",
              "    </tr>\n",
              "    <tr>\n",
              "      <th>zwinglista</th>\n",
              "      <td>zwi</td>\n",
              "      <td>zw</td>\n",
              "    </tr>\n",
              "    <tr>\n",
              "      <th>zwingliste</th>\n",
              "      <td>zwi</td>\n",
              "      <td>zw</td>\n",
              "    </tr>\n",
              "    <tr>\n",
              "      <th>zwinglisti</th>\n",
              "      <td>zwi</td>\n",
              "      <td>zw</td>\n",
              "    </tr>\n",
              "    <tr>\n",
              "      <th>zzz</th>\n",
              "      <td>zzz</td>\n",
              "      <td>zz</td>\n",
              "    </tr>\n",
              "  </tbody>\n",
              "</table>\n",
              "<p>661563 rows × 2 columns</p>\n",
              "</div>\n",
              "      <button class=\"colab-df-convert\" onclick=\"convertToInteractive('df-78c6c5d1-76fb-46bf-ac4c-a32f6fc50a6d')\"\n",
              "              title=\"Convert this dataframe to an interactive table.\"\n",
              "              style=\"display:none;\">\n",
              "        \n",
              "  <svg xmlns=\"http://www.w3.org/2000/svg\" height=\"24px\"viewBox=\"0 0 24 24\"\n",
              "       width=\"24px\">\n",
              "    <path d=\"M0 0h24v24H0V0z\" fill=\"none\"/>\n",
              "    <path d=\"M18.56 5.44l.94 2.06.94-2.06 2.06-.94-2.06-.94-.94-2.06-.94 2.06-2.06.94zm-11 1L8.5 8.5l.94-2.06 2.06-.94-2.06-.94L8.5 2.5l-.94 2.06-2.06.94zm10 10l.94 2.06.94-2.06 2.06-.94-2.06-.94-.94-2.06-.94 2.06-2.06.94z\"/><path d=\"M17.41 7.96l-1.37-1.37c-.4-.4-.92-.59-1.43-.59-.52 0-1.04.2-1.43.59L10.3 9.45l-7.72 7.72c-.78.78-.78 2.05 0 2.83L4 21.41c.39.39.9.59 1.41.59.51 0 1.02-.2 1.41-.59l7.78-7.78 2.81-2.81c.8-.78.8-2.07 0-2.86zM5.41 20L4 18.59l7.72-7.72 1.47 1.35L5.41 20z\"/>\n",
              "  </svg>\n",
              "      </button>\n",
              "      \n",
              "  <style>\n",
              "    .colab-df-container {\n",
              "      display:flex;\n",
              "      flex-wrap:wrap;\n",
              "      gap: 12px;\n",
              "    }\n",
              "\n",
              "    .colab-df-convert {\n",
              "      background-color: #E8F0FE;\n",
              "      border: none;\n",
              "      border-radius: 50%;\n",
              "      cursor: pointer;\n",
              "      display: none;\n",
              "      fill: #1967D2;\n",
              "      height: 32px;\n",
              "      padding: 0 0 0 0;\n",
              "      width: 32px;\n",
              "    }\n",
              "\n",
              "    .colab-df-convert:hover {\n",
              "      background-color: #E2EBFA;\n",
              "      box-shadow: 0px 1px 2px rgba(60, 64, 67, 0.3), 0px 1px 3px 1px rgba(60, 64, 67, 0.15);\n",
              "      fill: #174EA6;\n",
              "    }\n",
              "\n",
              "    [theme=dark] .colab-df-convert {\n",
              "      background-color: #3B4455;\n",
              "      fill: #D2E3FC;\n",
              "    }\n",
              "\n",
              "    [theme=dark] .colab-df-convert:hover {\n",
              "      background-color: #434B5C;\n",
              "      box-shadow: 0px 1px 3px 1px rgba(0, 0, 0, 0.15);\n",
              "      filter: drop-shadow(0px 1px 2px rgba(0, 0, 0, 0.3));\n",
              "      fill: #FFFFFF;\n",
              "    }\n",
              "  </style>\n",
              "\n",
              "      <script>\n",
              "        const buttonEl =\n",
              "          document.querySelector('#df-78c6c5d1-76fb-46bf-ac4c-a32f6fc50a6d button.colab-df-convert');\n",
              "        buttonEl.style.display =\n",
              "          google.colab.kernel.accessAllowed ? 'block' : 'none';\n",
              "\n",
              "        async function convertToInteractive(key) {\n",
              "          const element = document.querySelector('#df-78c6c5d1-76fb-46bf-ac4c-a32f6fc50a6d');\n",
              "          const dataTable =\n",
              "            await google.colab.kernel.invokeFunction('convertToInteractive',\n",
              "                                                     [key], {});\n",
              "          if (!dataTable) return;\n",
              "\n",
              "          const docLinkHtml = 'Like what you see? Visit the ' +\n",
              "            '<a target=\"_blank\" href=https://colab.research.google.com/notebooks/data_table.ipynb>data table notebook</a>'\n",
              "            + ' to learn more about interactive tables.';\n",
              "          element.innerHTML = '';\n",
              "          dataTable['output_type'] = 'display_data';\n",
              "          await google.colab.output.renderOutput(dataTable, element);\n",
              "          const docLink = document.createElement('div');\n",
              "          docLink.innerHTML = docLinkHtml;\n",
              "          element.appendChild(docLink);\n",
              "        }\n",
              "      </script>\n",
              "    </div>\n",
              "  </div>\n",
              "  "
            ]
          },
          "metadata": {},
          "execution_count": 128
        }
      ]
    },
    {
      "cell_type": "markdown",
      "source": [
        "Metto in una serie pandas tutte le terzine e le coppie generate poi tolgo i duplicati"
      ],
      "metadata": {
        "id": "CXYbdP0PtJ6B"
      }
    },
    {
      "cell_type": "code",
      "source": [
        "combinations = words.coppie.append(words.terzine)"
      ],
      "metadata": {
        "id": "7qYEXarHS1fK"
      },
      "execution_count": 142,
      "outputs": []
    },
    {
      "cell_type": "code",
      "source": [
        "combinations.drop_duplicates(keep='first', inplace=True)"
      ],
      "metadata": {
        "id": "4aQw50UbTQW8"
      },
      "execution_count": 143,
      "outputs": []
    },
    {
      "cell_type": "code",
      "source": [
        "combinations"
      ],
      "metadata": {
        "colab": {
          "base_uri": "https://localhost:8080/"
        },
        "id": "N7USGpxfTgLw",
        "outputId": "3cecc315-e3dd-47c3-e49e-331f92c0c221"
      },
      "execution_count": 144,
      "outputs": [
        {
          "output_type": "execute_result",
          "data": {
            "text/plain": [
              "0          ab\n",
              "4586       ac\n",
              "12773      ad\n",
              "16328      ae\n",
              "16722      af\n",
              "         ... \n",
              "661446    zup\n",
              "661493    zur\n",
              "661539    zuz\n",
              "661551    zwi\n",
              "661562    zzz\n",
              "Length: 2948, dtype: object"
            ]
          },
          "metadata": {},
          "execution_count": 144
        }
      ]
    },
    {
      "cell_type": "code",
      "source": [
        "combinations.size"
      ],
      "metadata": {
        "colab": {
          "base_uri": "https://localhost:8080/"
        },
        "id": "R2W90rxMUA0s",
        "outputId": "0e1a841e-251d-4305-a986-abd9ddcfc976"
      },
      "execution_count": 70,
      "outputs": [
        {
          "output_type": "execute_result",
          "data": {
            "text/plain": [
              "2948"
            ]
          },
          "metadata": {},
          "execution_count": 70
        }
      ]
    },
    {
      "cell_type": "code",
      "source": [
        "combinations = pd.DataFrame(combinations, columns= ['letter_set'])"
      ],
      "metadata": {
        "id": "ArlAbX8iXE2z"
      },
      "execution_count": 145,
      "outputs": []
    },
    {
      "cell_type": "markdown",
      "source": [
        "L'obiettivo è scartare le coppie e terzine che sono poco utilizzate nell'alfabeto. per ogni terzina/coppia conto in quante parole accade in modo da poterne scartare una parte"
      ],
      "metadata": {
        "id": "49McS3oltQXp"
      }
    },
    {
      "cell_type": "code",
      "source": [
        "def search_letterset_in_words(x, columns_series):\n",
        "  return columns_series.str.contains(x, regex = False).sum()"
      ],
      "metadata": {
        "id": "KUcA6F8JYUsQ"
      },
      "execution_count": 146,
      "outputs": []
    },
    {
      "cell_type": "code",
      "source": [
        "combinations['frequency'] = combinations['letter_set'].apply(search_letterset_in_words, args = (words['word'], ))"
      ],
      "metadata": {
        "id": "v2VfM5F7b8Pb"
      },
      "execution_count": 150,
      "outputs": []
    },
    {
      "cell_type": "code",
      "source": [
        "combinations[combinations['frequency'] > 80]['letter_set'].to_json('combinations.json', orient='records', lines=True)"
      ],
      "metadata": {
        "id": "Fn2zOdS7UTIP"
      },
      "execution_count": 158,
      "outputs": []
    },
    {
      "cell_type": "markdown",
      "source": [
        "# Nuova sezione"
      ],
      "metadata": {
        "id": "x4s_CsvRQBsd"
      }
    }
  ]
}